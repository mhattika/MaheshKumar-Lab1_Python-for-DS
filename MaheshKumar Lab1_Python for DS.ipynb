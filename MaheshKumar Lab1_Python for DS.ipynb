{
 "cells": [
  {
   "cell_type": "markdown",
   "id": "2c8f47d3",
   "metadata": {
    "id": "2c8f47d3"
   },
   "source": [
    "# Lab Session"
   ]
  },
  {
   "cell_type": "markdown",
   "id": "f637aba6",
   "metadata": {
    "id": "f637aba6"
   },
   "source": [
    "## <font color='blue'> Table Of Contents </font>\n",
    "- Problem Statement \n",
    "- Load required libraries\n",
    "- Connect to DB using mysql-connector-python package\n",
    "- Create database named `e_commerce`\n",
    "- Create tables and insert data into tables as specified in the question\n",
    "- Read all the questions and write sql queries to meet the objective "
   ]
  },
  {
   "cell_type": "markdown",
   "id": "1073fc90",
   "metadata": {
    "id": "1073fc90"
   },
   "source": [
    "## <font color='blue'> Problem Statement </font>\n",
    "###  An E-commerce website manages its data in the form of various tables.\n",
    "You need to create a Database called `e_commerce` and various tables in it. The tables needed and attributes which need to be in every table are given before hand. All you have to do is create tables with data in it and answer some of the questions that follows."
   ]
  },
  {
   "cell_type": "markdown",
   "id": "48787355",
   "metadata": {
    "id": "48787355"
   },
   "source": [
    "### e_commerce Schema:"
   ]
  },
  {
   "cell_type": "markdown",
   "id": "78938fbc",
   "metadata": {
    "id": "78938fbc"
   },
   "source": [
    "![e_commerce%20_schema.png](attachment:e_commerce%20_schema.png)"
   ]
  },
  {
   "cell_type": "markdown",
   "id": "d9abe6c7",
   "metadata": {
    "id": "d9abe6c7"
   },
   "source": [
    "### Load Required Libraries"
   ]
  },
  {
   "cell_type": "code",
   "execution_count": 1,
   "id": "0178d08e",
   "metadata": {
    "id": "0178d08e"
   },
   "outputs": [],
   "source": [
    "import mysql.connector\n",
    "import pandas as pd"
   ]
  },
  {
   "cell_type": "markdown",
   "id": "d7d7fd5c",
   "metadata": {
    "id": "d7d7fd5c"
   },
   "source": [
    "### Connect to DB using Mysql-connector-python package"
   ]
  },
  {
   "cell_type": "code",
   "execution_count": 2,
   "id": "ef7bef72",
   "metadata": {
    "id": "ef7bef72"
   },
   "outputs": [],
   "source": [
    "## Code for connecting to Mysql server and closing the connection\n",
    "import mysql.connector\n",
    "  \n",
    "connection = mysql.connector.connect(host =\"localhost\",\n",
    "                                    user =\"root\",\n",
    "                                    passwd =\"hM1hM2@123\")"
   ]
  },
  {
   "cell_type": "markdown",
   "id": "9d55e510",
   "metadata": {
    "id": "9d55e510"
   },
   "source": [
    "### You are required to create a database named 'e_commerce'"
   ]
  },
  {
   "cell_type": "code",
   "execution_count": 3,
   "id": "42a154f2",
   "metadata": {
    "id": "42a154f2"
   },
   "outputs": [],
   "source": [
    "## creating a cursor object\n",
    "cursorObject = connection.cursor()\n",
    " \n",
    "## creating database\n",
    "cursorObject.execute(\"CREATE DATABASE e_commerce\")"
   ]
  },
  {
   "cell_type": "markdown",
   "id": "480dc986",
   "metadata": {
    "id": "480dc986"
   },
   "source": [
    "### Q1. Create tables for supplier, customer, category, product, productDetails, order, rating to store the data for the E-commerce with the schema definition given below.\n",
    "\n",
    "\n",
    "- **`supplier`**(SUPP_ID int primary key, SUPP_NAME varchar(50), SUPP_CITY varchar(50), SUPP_PHONE varchar(10))\n",
    "\n",
    "\n",
    "- **`customer`** (CUS_ID INT NOT NULL, CUS_NAME VARCHAR(20) NULL DEFAULT NULL, CUS_PHONE VARCHAR(10), CUS_CITY varchar(30) ,CUS_GENDER CHAR,PRIMARY KEY (CUS_ID))\n",
    "\n",
    "\n",
    "- **`category`** (CAT_ID INT NOT NULL, CAT_NAME VARCHAR(20) NULL DEFAULT NULL,PRIMARY KEY (CAT_ID))\n",
    "\n",
    "\n",
    "- **`product`** (PRO_ID INT NOT NULL, PRO_NAME VARCHAR(20) NULL DEFAULT NULL, PRO_DESC VARCHAR(60) NULL DEFAULT NULL, CAT_ID INT NOT NULL,PRIMARY KEY (PRO_ID),FOREIGN KEY (CAT_ID) REFERENCES CATEGORY (CAT_ID))\n",
    "\n",
    "\n",
    "- **`product_details`** (PROD_ID INT NOT NULL, PRO_ID INT NOT NULL, SUPP_ID INT NOT NULL, PROD_PRICE INT NOT NULL,\n",
    "  PRIMARY KEY (PROD_ID),FOREIGN KEY (PRO_ID) REFERENCES PRODUCT (PRO_ID), FOREIGN KEY (SUPP_ID) REFERENCES SUPPLIER(SUPP_ID))\n",
    "  \n",
    "  \n",
    "- **`order`** (ORD_ID INT NOT NULL, ORD_AMOUNT INT NOT NULL, ORD_DATE DATE, CUS_ID INT NOT NULL, PROD_ID INT NOT NULL,PRIMARY KEY (ORD_ID),FOREIGN KEY (CUS_ID) REFERENCES CUSTOMER(CUS_ID),FOREIGN KEY (PROD_ID) REFERENCES PRODUCT_DETAILS(PROD_ID))\n",
    "\n",
    "\n",
    "- **`rating`** (RAT_ID INT NOT NULL, CUS_ID INT NOT NULL, SUPP_ID INT NOT NULL, RAT_RATSTARS INT NOT NULL,PRIMARY KEY (RAT_ID),FOREIGN KEY (SUPP_ID) REFERENCES SUPPLIER (SUPP_ID),FOREIGN KEY (CUS_ID) REFERENCES CUSTOMER(CUS_ID))"
   ]
  },
  {
   "cell_type": "code",
   "execution_count": 6,
   "id": "967b718f",
   "metadata": {
    "id": "967b718f"
   },
   "outputs": [],
   "source": [
    "## Again connect to the Mysql server and while connecting Choose 'e_commerce' database\n",
    "\n",
    "connection = mysql.connector.connect(host =\"localhost\",\n",
    "                                     user =\"root\",\n",
    "                                     passwd =\"hM1hM2@123\",\n",
    "                                     database = 'e_commerce')\n",
    " \n",
    "## creating a cursor object\n",
    "cursorObject = connection.cursor()\n",
    "\n",
    "## Solution for Q1: Creating tables \n",
    "\n",
    "table_creation_query = \"\"\"CREATE TABLE IF NOT EXISTS supplier (SUPP_ID int primary key, SUPP_NAME varchar(50), SUPP_CITY varchar(50), SUPP_PHONE varchar(10));\n",
    "\n",
    "CREATE TABLE IF NOT EXISTS customer (CUS_ID INT NOT NULL, CUS_NAME VARCHAR(20) NULL DEFAULT NULL, CUS_PHONE VARCHAR(10), CUS_CITY varchar(30) ,CUS_GENDER CHAR,PRIMARY KEY (CUS_ID));\n",
    "\n",
    "CREATE TABLE IF NOT EXISTS category (CAT_ID INT NOT NULL, CAT_NAME VARCHAR(20) NULL DEFAULT NULL,PRIMARY KEY (CAT_ID));\n",
    "\n",
    "CREATE TABLE IF NOT EXISTS product (PRO_ID INT NOT NULL, PRO_NAME VARCHAR(20) NULL DEFAULT NULL, PRO_DESC VARCHAR(60) NULL DEFAULT NULL, CAT_ID INT NOT NULL,PRIMARY KEY (PRO_ID),FOREIGN KEY (CAT_ID) REFERENCES CATEGORY (CAT_ID));\n",
    "\n",
    "CREATE TABLE IF NOT EXISTS product_details (PROD_ID INT NOT NULL, PRO_ID INT NOT NULL, SUPP_ID INT NOT NULL, PROD_PRICE INT NOT NULL, PRIMARY KEY (PROD_ID),FOREIGN KEY (PRO_ID) REFERENCES PRODUCT (PRO_ID), FOREIGN KEY (SUPP_ID) REFERENCES SUPPLIER(SUPP_ID));\n",
    "\n",
    "CREATE TABLE IF NOT EXISTS orders (ORD_ID INT NOT NULL, ORD_AMOUNT INT NOT NULL, ORD_DATE DATE, CUS_ID INT NOT NULL, PROD_ID INT NOT NULL,PRIMARY KEY (ORD_ID),FOREIGN KEY (CUS_ID) REFERENCES CUSTOMER(CUS_ID),FOREIGN KEY (PROD_ID) REFERENCES PRODUCT_DETAILS(PROD_ID));\n",
    "\n",
    "CREATE TABLE IF NOT EXISTS rating (RAT_ID INT NOT NULL, CUS_ID INT NOT NULL, SUPP_ID INT NOT NULL, RAT_RATSTARS INT NOT NULL,PRIMARY KEY (RAT_ID),FOREIGN KEY (SUPP_ID) REFERENCES SUPPLIER (SUPP_ID),FOREIGN KEY (CUS_ID) REFERENCES CUSTOMER(CUS_ID));\"\"\"\n",
    "                  \n",
    "# Executing the query\n",
    "cursorObject.execute(table_creation_query)"
   ]
  },
  {
   "cell_type": "markdown",
   "id": "1f653731",
   "metadata": {
    "id": "1f653731"
   },
   "source": [
    "### Q2. Insert the following data in the table created above\n",
    "#### `Note:` If you are getting any error while inserting the data into tables, Kindly close the connection and reconnect\n",
    "\n",
    "#### Table:  supplier\n",
    "| SUPP_ID | SUPP_NAME | SUPP_CITY | SUPP_PHONE |\n",
    "| --- | --- | --- | --- | \n",
    "| 1 | Rajesh Retails | Delhi | 1234567890 |\n",
    "| 2 | Appario Ltd. | Mumbai | 258963147032 | \n",
    "| 3 | Knome products | Bangalore | 9785462315 |\n",
    "| 4 | Bansal Retails | Kochi | 8975463285 |\n",
    "| 5 | Mittal Ltd. | Lucknow | 7898456532 |"
   ]
  },
  {
   "cell_type": "code",
   "execution_count": 8,
   "id": "f6dddd07",
   "metadata": {
    "id": "f6dddd07"
   },
   "outputs": [],
   "source": [
    "# Inserting data into \"supplier\" table\n",
    "\n",
    "## Again connect to the Mysql server and while connecting Choose 'e_commerce' database\n",
    "\n",
    "connection = mysql.connector.connect(host =\"localhost\",\n",
    "                                     user =\"root\",\n",
    "                                     passwd =\"hM1hM2@123\",\n",
    "                                     database = 'e_commerce')\n",
    " \n",
    "## creating a cursor object\n",
    "cursorObject = connection.cursor()\n",
    "\n",
    "# Inserting data into \"supplier\" table\n",
    "insert_supplier_details = \"\"\"INSERT INTO supplier (SUPP_ID,SUPP_NAME, SUPP_CITY, SUPP_PHONE) \n",
    "                       VALUES (%s, %s, %s, %s)\"\"\"\n",
    "\n",
    "val = [(1,\"Rajesh Retails\",\"Delhi\",'1234567890'),(2,\"Appario Ltd.\",\"Mumbai\",'2589631470'),\n",
    "       (3,\"Knome products\",\"Banglore\",'9785462315'),(4,\"Bansal Retails\",\"Kochi\",'8975463285'),\n",
    "       (5,\"Mittal Ltd.\",\"Lucknow\",'7898456532')]\n",
    "   \n",
    "cursorObject.executemany(insert_supplier_details, val)\n",
    "connection.commit()"
   ]
  },
  {
   "cell_type": "markdown",
   "id": "e8a070a6",
   "metadata": {
    "id": "e8a070a6"
   },
   "source": [
    "#### Table:  customer\n",
    "| CUS_ID | CUS_NAME | SUPP_PHONE | CUS_CITY | CUS_GENDER\n",
    "| --- | --- | --- | --- | --- |\n",
    "| 1 | AAKASH | 9999999999 | DELHI | M |\n",
    "| 2 | AMAN | 9785463215 | NOIDA | M |\n",
    "| 3 | NEHA | 9999999998 | MUMBAI | F |\n",
    "| 4 | MEGHA | 9994562399 | KOLKATA | F |\n",
    "| 5 | PULKIT | 7895999999 | LUCKNOW | M |"
   ]
  },
  {
   "cell_type": "code",
   "execution_count": 9,
   "id": "15a4ee87",
   "metadata": {
    "id": "15a4ee87"
   },
   "outputs": [],
   "source": [
    "# insert into \"customer\" table\n",
    "## Again connect to the Mysql server and while connecting Choose 'e_commerce' database\n",
    "\n",
    "connection = mysql.connector.connect(host =\"localhost\",\n",
    "                                     user =\"root\",\n",
    "                                     passwd =\"hM1hM2@123\",\n",
    "                                     database = 'e_commerce')\n",
    " \n",
    "## creating a cursor object\n",
    "cursorObject = connection.cursor()\n",
    "\n",
    "# Inserting data into \"customer\" table\n",
    "insert_customer_details = \"\"\"INSERT INTO customer (CUS_ID,CUS_NAME,CUS_PHONE,CUS_CITY,CUS_GENDER) \n",
    "                       VALUES (%s, %s, %s, %s,%s)\"\"\"\n",
    "\n",
    "val = [(1,\"AAKASH\",'9999999999',\"DELHI\",'M'),(2,\"AMAN\",'9785463215',\"NOIDA\",'M'),\n",
    "       (3,\"NEHA\",'9999999999',\"MUMBAI\",'F'),(4,\"MEGHA\",'9994562399',\"KOLKATA\",'F'),\n",
    "       (5,\"PULKIT\",'7895999999',\"LUCKNOW\",'M')]\n",
    "   \n",
    "cursorObject.executemany(insert_customer_details, val)\n",
    "connection.commit()\n"
   ]
  },
  {
   "cell_type": "markdown",
   "id": "b68bfbc2",
   "metadata": {
    "id": "b68bfbc2"
   },
   "source": [
    "#### Table:  category\n",
    "| CAT_ID | CAT_NAME | \n",
    "| --- | --- |  \n",
    "| 1 | BOOKS |\n",
    "| 2 | GAMES |  \n",
    "| 3 | GROCERIES | \n",
    "| 4 | ELECTRONICS | \n",
    "| 5 | CLOTHES | "
   ]
  },
  {
   "cell_type": "code",
   "execution_count": 11,
   "id": "05a00abc",
   "metadata": {
    "id": "05a00abc"
   },
   "outputs": [],
   "source": [
    "# insert into \"category\" table\n",
    "\n",
    "## Again connect to the Mysql server and while connecting Choose 'e_commerce' database\n",
    "\n",
    "connection = mysql.connector.connect(host =\"localhost\",\n",
    "                                     user =\"root\",\n",
    "                                     passwd =\"hM1hM2@123\",\n",
    "                                     database = 'e_commerce')\n",
    " \n",
    "## creating a cursor object\n",
    "cursorObject = connection.cursor()\n",
    "\n",
    "# Inserting data into \"category\" table\n",
    "insert_category_details = \"\"\"INSERT INTO category (CAT_ID,CAT_NAME) \n",
    "                       VALUES (%s, %s)\"\"\"\n",
    "\n",
    "val = [(1,\"BOOKS\"),(2,\"GAMES\"),(3,\"GROCERIES\"),(4,\"ELECTRONICS\"),\n",
    "       (5,\"CLOTHES\")]\n",
    "   \n",
    "cursorObject.executemany(insert_category_details, val)\n",
    "connection.commit()\n",
    "\n"
   ]
  },
  {
   "cell_type": "markdown",
   "id": "eb3bc592",
   "metadata": {
    "id": "eb3bc592"
   },
   "source": [
    "#### Table:  product\n",
    "| PRO_ID | PRO_NAME | PRO_DESC | CAT_ID |\n",
    "| --- | --- | --- | --- | \n",
    "| 1 | GTA V | DFJDJFDJFDJFDJFJF | 2 |\n",
    "| 2 | TSHIRT | DFDFJDFJDKFD | 5 | \n",
    "| 3 | ROG LAPTOP | DFNTTNTNTERND | 4 |\n",
    "| 4 | OATS | REURENTBTOTH | 3 |\n",
    "| 5 | HARRY POTTER | NBEMCTHTJTH | 1 |\n"
   ]
  },
  {
   "cell_type": "code",
   "execution_count": 12,
   "id": "cdfbdfad",
   "metadata": {
    "id": "cdfbdfad"
   },
   "outputs": [],
   "source": [
    "# insert into \"product\" table\n",
    "\n",
    "## Again connect to the Mysql server and while connecting Choose 'e_commerce' database\n",
    "\n",
    "connection = mysql.connector.connect(host =\"localhost\",\n",
    "                                     user =\"root\",\n",
    "                                     passwd =\"hM1hM2@123\",\n",
    "                                     database = 'e_commerce')\n",
    " \n",
    "## creating a cursor object\n",
    "cursorObject = connection.cursor()\n",
    "\n",
    "# Inserting data into \"product\" table\n",
    "insert_product_details = \"\"\"INSERT INTO product (PRO_ID,PRO_NAME,PRO_DESC,CAT_ID) \n",
    "                       VALUES (%s, %s, %s, %s)\"\"\"\n",
    "\n",
    "val = [(1,\"GTA V\",\"Windows 7 and above with i5 processor and 8GB RAM\",2),\n",
    "       (2,\"TSHIRT\",\"SIZE-L with Black, Blue and White variations\",5),\n",
    "       (3,\"ROG LAPTOP\",\"Windows 10 with 15inch screen, i7 processor, 1TB SSD\",4),\n",
    "       (4,\"OATS\",\"Highly Nutritious from Nestle\",3),\n",
    "       (5,\"HARRY POTTER\",\"Best Collection of all time by J.K Rowling\",1)]\n",
    "   \n",
    "cursorObject.executemany(insert_product_details, val)\n",
    "connection.commit()\n",
    "\n"
   ]
  },
  {
   "cell_type": "markdown",
   "id": "cfa8a47d",
   "metadata": {
    "id": "cfa8a47d"
   },
   "source": [
    "#### Table:  product_details\n",
    "| PROD_ID | PRO_ID | SUPP_ID | PROD_PRICE |\n",
    "| --- | --- | --- | --- | \n",
    "| 1 | 1 | 2 | 1500 |\n",
    "| 2 | 3 | 5 | 30000 | \n",
    "| 3 | 5 | 1 | 3000 |\n",
    "| 4 | 2 | 3 | 2500 |\n",
    "| 5 | 4 | 1 | 1000 |"
   ]
  },
  {
   "cell_type": "code",
   "execution_count": 13,
   "id": "c18ea964",
   "metadata": {
    "id": "c18ea964"
   },
   "outputs": [],
   "source": [
    "# insert into \"product_details\" table\n",
    "\n",
    "\n",
    "## Again connect to the Mysql server and while connecting Choose 'e_commerce' database\n",
    "\n",
    "connection = mysql.connector.connect(host =\"localhost\",\n",
    "                                     user =\"root\",\n",
    "                                     passwd =\"hM1hM2@123\",\n",
    "                                     database = 'e_commerce')\n",
    " \n",
    "## creating a cursor object\n",
    "cursorObject = connection.cursor()\n",
    "\n",
    "# Inserting data into \"product_details\" table\n",
    "insert_product_supplier_mapping_details = \"\"\"INSERT INTO product_details (PROD_ID,PRO_ID,SUPP_ID,PROD_PRICE) \n",
    "                       VALUES (%s, %s, %s, %s)\"\"\"\n",
    "\n",
    "val = [(1,1,2,1500),\n",
    "       (2,3,5,30000),\n",
    "       (3,5,1,3000),\n",
    "       (4,2,3,2500),\n",
    "       (5,4,1,1000)]\n",
    "   \n",
    "cursorObject.executemany(insert_product_supplier_mapping_details, val)\n",
    "connection.commit()\n",
    "\n",
    "\n"
   ]
  },
  {
   "cell_type": "markdown",
   "id": "1df49086",
   "metadata": {
    "id": "1df49086"
   },
   "source": [
    "#### Table:  orders\n",
    "| ORD_ID | ORD_AMOUNT | ORD_DATE | CUS_ID | PROD_ID\n",
    "| --- | --- | --- | --- | --- |\n",
    "| 20 | 1500 | 2021-10-12 | 3 | 5 |\n",
    "| 25 | 30500 | 2021-09-16 | 5 | 2 |\n",
    "| 26 | 2000 | 2021-10-05 | 1 | 1 |\n",
    "| 30 | 3500 | 2021-08-16 | 4 | 3 |\n",
    "| 50 | 2000 | 2021-10-06 | 2 | 1 |"
   ]
  },
  {
   "cell_type": "code",
   "execution_count": 14,
   "id": "0d97dc92",
   "metadata": {
    "id": "0d97dc92"
   },
   "outputs": [],
   "source": [
    "# insert into \"orders\" table\n",
    "\n",
    "\n",
    "## Again connect to the Mysql server and while connecting Choose 'e_commerce' database\n",
    "\n",
    "connection = mysql.connector.connect(host =\"localhost\",\n",
    "                                     user =\"root\",\n",
    "                                     passwd =\"hM1hM2@123\",\n",
    "                                     database = 'e_commerce')\n",
    " \n",
    "## creating a cursor object\n",
    "cursorObject = connection.cursor()\n",
    "\n",
    "# Inserting data into \"orders\" table\n",
    "insert_orders_details = \"\"\"INSERT INTO orders (ORD_ID,ORD_AMOUNT,ORD_DATE,CUS_ID,PROD_ID) \n",
    "                       VALUES (%s, %s, %s, %s,%s)\"\"\"\n",
    "\n",
    "val = [(20,1500,\"2021-10-12\",3,5),\n",
    "(25,30500,\"2021-09-16\",5,2),\n",
    "(26,2000,\"2021-10-05\",1,1),\n",
    "(30,3500,\"2021-08-16\",4,3),\n",
    "(50,2000,\"2021-10-06\",2,1)]\n",
    "   \n",
    "cursorObject.executemany(insert_orders_details, val)\n",
    "connection.commit()\n",
    "\n",
    "\n",
    "\n"
   ]
  },
  {
   "cell_type": "markdown",
   "id": "75b8ce5f",
   "metadata": {
    "id": "75b8ce5f"
   },
   "source": [
    "#### Table: rating\n",
    "| RAT_ID | CUS_ID | SUPP_ID | RAT_RATSTARS |\n",
    "| --- | --- | --- | --- | \n",
    "| 1 | 2 | 2 | 4 |\n",
    "| 2 | 3 | 4 | 3 | \n",
    "| 3 | 5 | 1 | 5 |\n",
    "| 4 | 1 | 3 | 2 |\n",
    "| 5 | 4 | 5 | 4 |"
   ]
  },
  {
   "cell_type": "code",
   "execution_count": 16,
   "id": "6d5f1e18",
   "metadata": {
    "id": "6d5f1e18"
   },
   "outputs": [],
   "source": [
    "# insert into \"rating\" table\n",
    "\n",
    "## Again connect to the Mysql server and while connecting Choose 'e_commerce' database\n",
    "\n",
    "connection = mysql.connector.connect(host =\"localhost\",\n",
    "                                     user =\"root\",\n",
    "                                     passwd =\"hM1hM2@123\",\n",
    "                                     database = 'e_commerce')\n",
    " \n",
    "## creating a cursor object\n",
    "cursorObject = connection.cursor()\n",
    "\n",
    "# Inserting data into \"rating\" table\n",
    "insert_rating_details = \"\"\"INSERT INTO rating (RAT_ID,CUS_ID,SUPP_ID,RAT_RATSTARS) \n",
    "                       VALUES (%s, %s, %s, %s)\"\"\"\n",
    "\n",
    "val = [(1,2,2,4),\n",
    "(2,3,4,3),\n",
    "(3,5,1,5),\n",
    "(4,1,3,2),\n",
    "(5,4,5,4)]\n",
    "   \n",
    "cursorObject.executemany(insert_rating_details, val)\n",
    "connection.commit()\n"
   ]
  },
  {
   "cell_type": "markdown",
   "id": "b59361c3",
   "metadata": {
    "id": "b59361c3"
   },
   "source": [
    "### Q3) Display the number of the customer group by their genders who have placed any order of amount greater than or equal to Rs.3000."
   ]
  },
  {
   "cell_type": "code",
   "execution_count": 26,
   "id": "fcafaf3c",
   "metadata": {
    "id": "fcafaf3c"
   },
   "outputs": [
    {
     "name": "stdout",
     "output_type": "stream",
     "text": [
      "(1, 'M')\n",
      "(1, 'F')\n"
     ]
    }
   ],
   "source": [
    "## Solution for Q3\n",
    "\n",
    "## Again connect to the Mysql server and while connecting Choose 'e_commerce' database\n",
    "\n",
    "connection = mysql.connector.connect(host =\"localhost\",\n",
    "                                     user =\"root\",\n",
    "                                     passwd =\"hM1hM2@123\",\n",
    "                                     database = 'e_commerce')\n",
    " \n",
    "## creating a cursor object\n",
    "cursorObject = connection.cursor()\n",
    "\n",
    "subquery = \"\"\"select count(t2.cus_gender) as NoOfCustomers, t2.cus_gender from \n",
    "(select t1.cus_id, t1.cus_gender, t1.ord_amount, t1.cus_name from \n",
    "(select orders.*, customer.cus_gender, customer.cus_name from orders inner join customer where orders.cus_id=customer.cus_id having orders.ord_amount>=3000) as t1 group by t1.cus_id) \n",
    "as t2 group by t2.cus_gender;) \"\"\"\n",
    "\n",
    "cursorObject.execute(subquery)\n",
    " \n",
    "output = cursorObject.fetchall()\n",
    "   \n",
    "for x in output:\n",
    "    print(x)\n",
    "\n"
   ]
  },
  {
   "cell_type": "markdown",
   "id": "e49e04f5",
   "metadata": {
    "id": "e49e04f5"
   },
   "source": [
    "### Q4) Display all the order along with product name ordered by a customer having Customer_Id=2;"
   ]
  },
  {
   "cell_type": "code",
   "execution_count": 27,
   "id": "9dcb7883",
   "metadata": {
    "id": "9dcb7883"
   },
   "outputs": [
    {
     "name": "stdout",
     "output_type": "stream",
     "text": [
      "('GTA V', 50, 2000, datetime.date(2021, 10, 6), 2, 1)\n"
     ]
    }
   ],
   "source": [
    "## Solution for Q4\n",
    "\n",
    "## Again connect to the Mysql server and while connecting Choose 'e_commerce' database\n",
    "\n",
    "connection = mysql.connector.connect(host =\"localhost\",\n",
    "                                     user =\"root\",\n",
    "                                     passwd =\"hM1hM2@123\",\n",
    "                                     database = 'e_commerce')\n",
    " \n",
    "## creating a cursor object\n",
    "cursorObject = connection.cursor()\n",
    "\n",
    "subquery = \"\"\"select product.pro_name,orders.* from orders, product_details, product \n",
    "where orders.cus_id=2 \n",
    "and orders.PROD_ID=product_details.PROD_ID \n",
    "and product_details.pro_id=product.pro_id;)\"\"\"\n",
    "\n",
    "cursorObject.execute(subquery)\n",
    " \n",
    "output = cursorObject.fetchall()\n",
    "   \n",
    "for x in output:\n",
    "    print(x)"
   ]
  },
  {
   "cell_type": "markdown",
   "id": "3a33398e",
   "metadata": {
    "id": "3a33398e"
   },
   "source": [
    "### Q5) Display the Supplier details who can supply more than one product."
   ]
  },
  {
   "cell_type": "code",
   "execution_count": 28,
   "id": "e933b979",
   "metadata": {
    "id": "e933b979"
   },
   "outputs": [
    {
     "name": "stdout",
     "output_type": "stream",
     "text": [
      "(1, 'Rajesh Retails', 'Delhi', '1234567890')\n"
     ]
    }
   ],
   "source": [
    "## Solution for Q5\n",
    "\n",
    "## Again connect to the Mysql server and while connecting Choose 'e_commerce' database\n",
    "\n",
    "connection = mysql.connector.connect(host =\"localhost\",\n",
    "                                     user =\"root\",\n",
    "                                     passwd =\"hM1hM2@123\",\n",
    "                                     database = 'e_commerce')\n",
    " \n",
    "## creating a cursor object\n",
    "cursorObject = connection.cursor()\n",
    "\n",
    "subquery = \"\"\"select supplier.* from supplier where supplier.supp_id in \n",
    "(select supp_id from product_details group by supp_id having \n",
    "count(supp_id)>1) \n",
    "group by supplier.supp_id;)\"\"\"\n",
    "\n",
    "cursorObject.execute(subquery)\n",
    " \n",
    "output = cursorObject.fetchall()\n",
    "   \n",
    "for x in output:\n",
    "    print(x)"
   ]
  },
  {
   "cell_type": "markdown",
   "id": "5fd319ef",
   "metadata": {
    "id": "5fd319ef"
   },
   "source": [
    "### Q6) Find the category of the product whose order amount is minimum."
   ]
  },
  {
   "cell_type": "code",
   "execution_count": 30,
   "id": "06f5cb51",
   "metadata": {
    "id": "06f5cb51"
   },
   "outputs": [
    {
     "name": "stdout",
     "output_type": "stream",
     "text": [
      "(2, 'GAMES', 1500)\n",
      "(5, 'CLOTHES', 2500)\n",
      "(4, 'ELECTRONICS', 30000)\n",
      "(3, 'GROCERIES', 1000)\n",
      "(1, 'BOOKS', 3000)\n"
     ]
    }
   ],
   "source": [
    "## Solution for Q6\n",
    "\n",
    "## Again connect to the Mysql server and while connecting Choose 'e_commerce' database\n",
    "\n",
    "connection = mysql.connector.connect(host =\"localhost\",\n",
    "                                     user =\"root\",\n",
    "                                     passwd =\"hM1hM2@123\",\n",
    "                                     database = 'e_commerce')\n",
    " \n",
    "## creating a cursor object\n",
    "cursorObject = connection.cursor()\n",
    "\n",
    "subquery = \"\"\"select category.cat_id,category.cat_name, min(t3.min_price) as Min_Price from category inner join\n",
    "(select product.cat_id, product.pro_name, t2.* from product inner join \n",
    "(select pro_id, min(prod_price) as Min_Price from product_details group by pro_id) \n",
    "as t2 where t2.pro_id = product.pro_id)\n",
    "as t3 where t3.cat_id = category.cat_id group by t3.cat_id;)\"\"\"\n",
    "\n",
    "cursorObject.execute(subquery)\n",
    " \n",
    "output = cursorObject.fetchall()\n",
    "   \n",
    "for x in output:\n",
    "    print(x)"
   ]
  },
  {
   "cell_type": "markdown",
   "id": "107102d4",
   "metadata": {
    "id": "107102d4"
   },
   "source": [
    "### Q7) Display the Id and Name of the Product ordered after “2021-10-05”."
   ]
  },
  {
   "cell_type": "code",
   "execution_count": 31,
   "id": "5d3fc7e8",
   "metadata": {
    "id": "5d3fc7e8"
   },
   "outputs": [
    {
     "name": "stdout",
     "output_type": "stream",
     "text": [
      "(4, 'OATS')\n",
      "(1, 'GTA V')\n"
     ]
    }
   ],
   "source": [
    "## Solution for Q7\n",
    "\n",
    "## Again connect to the Mysql server and while connecting Choose 'e_commerce' database\n",
    "\n",
    "connection = mysql.connector.connect(host =\"localhost\",\n",
    "                                     user =\"root\",\n",
    "                                     passwd =\"hM1hM2@123\",\n",
    "                                     database = 'e_commerce')\n",
    " \n",
    "## creating a cursor object\n",
    "cursorObject = connection.cursor()\n",
    "\n",
    "subquery = \"\"\"select product.pro_id,product.pro_name from orders \n",
    "inner join product_details on product_details.PROD_ID=orders.prod_id \n",
    "inner join product on product.pro_id=product_details.pro_id \n",
    "where orders.ord_date>\"2021-10-05\";)\"\"\"\n",
    "\n",
    "cursorObject.execute(subquery)\n",
    " \n",
    "output = cursorObject.fetchall()\n",
    "   \n",
    "for x in output:\n",
    "    print(x)"
   ]
  },
  {
   "cell_type": "markdown",
   "id": "bdce7167",
   "metadata": {
    "id": "bdce7167"
   },
   "source": [
    "### Q8) Print the top 3 supplier name and id and rating on the basis of their rating along with the customer name who has given the rating."
   ]
  },
  {
   "cell_type": "code",
   "execution_count": 34,
   "id": "fa0cbe44",
   "metadata": {
    "id": "fa0cbe44"
   },
   "outputs": [
    {
     "name": "stdout",
     "output_type": "stream",
     "text": [
      "('Rajesh Retails', 'PULKIT', 5)\n",
      "('Appario Ltd.', 'AMAN', 4)\n",
      "('Mittal Ltd.', 'MEGHA', 4)\n"
     ]
    }
   ],
   "source": [
    "## Solution for Q8\n",
    "\n",
    "## Again connect to the Mysql server and while connecting Choose 'e_commerce' database\n",
    "\n",
    "connection = mysql.connector.connect(host =\"localhost\",\n",
    "                                     user =\"root\",\n",
    "                                     passwd =\"hM1hM2@123\",\n",
    "                                     database = 'e_commerce')\n",
    " \n",
    "## creating a cursor object\n",
    "cursorObject = connection.cursor()\n",
    "\n",
    "subquery = \"\"\"select s.SUPP_NAME, c.CUS_NAME, r.RAT_RATSTARS\n",
    "from rating r\n",
    "LEFT JOIN supplier s ON s.SUPP_ID = r.SUPP_ID\n",
    "LEFT JOIN customer c ON c.CUS_ID = r.CUS_ID\n",
    "ORDER BY r.RAT_RATSTARS DESC limit 3;)\"\"\"\n",
    "\n",
    "cursorObject.execute(subquery)\n",
    " \n",
    "output = cursorObject.fetchall()\n",
    "   \n",
    "for x in output:\n",
    "    print(x)"
   ]
  },
  {
   "cell_type": "markdown",
   "id": "346ec2a1",
   "metadata": {
    "id": "346ec2a1"
   },
   "source": [
    "### Q9) Display customer name and gender whose names start or end with character 'A'."
   ]
  },
  {
   "cell_type": "code",
   "execution_count": 32,
   "id": "e571b5fd",
   "metadata": {
    "id": "e571b5fd"
   },
   "outputs": [
    {
     "name": "stdout",
     "output_type": "stream",
     "text": [
      "('AAKASH', 'M')\n",
      "('AMAN', 'M')\n",
      "('NEHA', 'F')\n",
      "('MEGHA', 'F')\n"
     ]
    }
   ],
   "source": [
    "## Solution for Q9\n",
    "\n",
    "## Again connect to the Mysql server and while connecting Choose 'e_commerce' database\n",
    "\n",
    "connection = mysql.connector.connect(host =\"localhost\",\n",
    "                                     user =\"root\",\n",
    "                                     passwd =\"hM1hM2@123\",\n",
    "                                     database = 'e_commerce')\n",
    " \n",
    "## creating a cursor object\n",
    "cursorObject = connection.cursor()\n",
    "\n",
    "subquery = \"\"\"select customer.cus_name,customer.cus_gender from customer \n",
    "where customer.cus_name like 'A%' or customer.cus_name like '%A';)\"\"\"\n",
    "\n",
    "cursorObject.execute(subquery)\n",
    " \n",
    "output = cursorObject.fetchall()\n",
    "   \n",
    "for x in output:\n",
    "    print(x)"
   ]
  },
  {
   "cell_type": "markdown",
   "id": "d0b01f77",
   "metadata": {
    "id": "d0b01f77"
   },
   "source": [
    "### Q10) Display the total order amount of the male customers."
   ]
  },
  {
   "cell_type": "code",
   "execution_count": 33,
   "id": "c3fa76e3",
   "metadata": {
    "id": "c3fa76e3"
   },
   "outputs": [
    {
     "name": "stdout",
     "output_type": "stream",
     "text": [
      "(Decimal('34500'),)\n"
     ]
    }
   ],
   "source": [
    "## Solution for Q10\n",
    "\n",
    "## Again connect to the Mysql server and while connecting Choose 'e_commerce' database\n",
    "\n",
    "connection = mysql.connector.connect(host =\"localhost\",\n",
    "                                     user =\"root\",\n",
    "                                     passwd =\"hM1hM2@123\",\n",
    "                                     database = 'e_commerce')\n",
    " \n",
    "## creating a cursor object\n",
    "cursorObject = connection.cursor()\n",
    "\n",
    "subquery = \"\"\"select SUM(ORD_Amount) As TotalAmt from orders o\n",
    "LEFT JOIN customer c ON c.cus_id = o.cus_id\n",
    "where c.CUS_GENDER = 'M';)\"\"\"\n",
    "\n",
    "cursorObject.execute(subquery)\n",
    " \n",
    "output = cursorObject.fetchall()\n",
    "   \n",
    "for x in output:\n",
    "    print(x)"
   ]
  },
  {
   "cell_type": "markdown",
   "id": "ff8a9971",
   "metadata": {
    "id": "ff8a9971"
   },
   "source": [
    "### Q11) Display all the Customers left outer join with  the orders"
   ]
  },
  {
   "cell_type": "code",
   "execution_count": 35,
   "id": "a340c6d6",
   "metadata": {
    "id": "a340c6d6"
   },
   "outputs": [
    {
     "name": "stdout",
     "output_type": "stream",
     "text": [
      "(1, 'AAKASH', '9999999999', 'DELHI', 'M', 26, 2000, datetime.date(2021, 10, 5), 1, 1)\n",
      "(2, 'AMAN', '9785463215', 'NOIDA', 'M', 50, 2000, datetime.date(2021, 10, 6), 2, 1)\n",
      "(3, 'NEHA', '9999999999', 'MUMBAI', 'F', 20, 1500, datetime.date(2021, 10, 12), 3, 5)\n",
      "(4, 'MEGHA', '9994562399', 'KOLKATA', 'F', 30, 3500, datetime.date(2021, 8, 16), 4, 3)\n",
      "(5, 'PULKIT', '7895999999', 'LUCKNOW', 'M', 25, 30500, datetime.date(2021, 9, 16), 5, 2)\n"
     ]
    }
   ],
   "source": [
    "## Solution for Q11\n",
    "\n",
    "## Again connect to the Mysql server and while connecting Choose 'e_commerce' database\n",
    "\n",
    "connection = mysql.connector.connect(host =\"localhost\",\n",
    "                                     user =\"root\",\n",
    "                                     passwd =\"hM1hM2@123\",\n",
    "                                     database = 'e_commerce')\n",
    " \n",
    "## creating a cursor object\n",
    "cursorObject = connection.cursor()\n",
    "\n",
    "subquery = \"\"\"select *  from customer C\n",
    "LEFT JOIN orders o ON c.cus_id = o.cus_id;)\"\"\"\n",
    "\n",
    "cursorObject.execute(subquery)\n",
    " \n",
    "output = cursorObject.fetchall()\n",
    "   \n",
    "for x in output:\n",
    "    print(x)"
   ]
  },
  {
   "cell_type": "markdown",
   "id": "0a72afe3",
   "metadata": {
    "id": "0a72afe3"
   },
   "source": [
    "**NOTE:** Always close an open connection once you are done with the database operations"
   ]
  },
  {
   "cell_type": "markdown",
   "id": "8c88f479",
   "metadata": {
    "id": "8c88f479"
   },
   "source": [
    "## Happy Learning:)"
   ]
  }
 ],
 "metadata": {
  "colab": {
   "name": "Lab Session  -  E-Commerce.ipynb",
   "provenance": []
  },
  "kernelspec": {
   "display_name": "Python 3 (ipykernel)",
   "language": "python",
   "name": "python3"
  },
  "language_info": {
   "codemirror_mode": {
    "name": "ipython",
    "version": 3
   },
   "file_extension": ".py",
   "mimetype": "text/x-python",
   "name": "python",
   "nbconvert_exporter": "python",
   "pygments_lexer": "ipython3",
   "version": "3.11.4"
  }
 },
 "nbformat": 4,
 "nbformat_minor": 5
}
